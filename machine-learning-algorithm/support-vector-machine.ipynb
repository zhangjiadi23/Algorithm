{
 "cells": [
  {
   "cell_type": "code",
   "execution_count": 2,
   "metadata": {
    "collapsed": true
   },
   "outputs": [],
   "source": [
    "import time\n",
    "import random\n",
    "import logging\n",
    "\n",
    "import pandas as pd\n",
    "from sklearn.cross_validation import train_test_split\n",
    "from sklearn.metrics import accuracy_score\n",
    "from generate_dataset import *"
   ]
  },
  {
   "cell_type": "code",
   "execution_count": 5,
   "metadata": {
    "collapsed": true
   },
   "outputs": [],
   "source": [
    "class svm(object):\n",
    "    def __init__(self, kernel='linear', epsilon=0.001):\n",
    "        self.kernel = kernel\n",
    "        self.epsilon = epsilon\n",
    "    \n",
    "    \n",
    "    def _init_parameters(self, features, labels):\n",
    "        \n",
    "        self.X = features\n",
    "        self.Y = labels\n",
    "        \n",
    "        self.b = 0.0\n",
    "        self.n = len(features[0])\n",
    "        self.N = len(features)\n",
    "        self.alpha = [0.0] * self.N\n",
    "        self.E = [self._E_(i) for i in range(self.N)]\n",
    "        self.C = 1000\n",
    "        self.max_interation = 5000\n",
    "        \n",
    "        \n",
    "    def satisfy_kkt(self, i):\n",
    "        \n",
    "        ygx  = self.Y[i] * self._g_(i)\n",
    "        if abs(self.slpha[i]) < self.epsilon:\n",
    "            return ygx > 1 or ygx == 1\n",
    "        elif abs(self.aplha[i] - self.C) < self.epsilon:\n",
    "            return ygx < 1 or ygx == 1\n",
    "        else:\n",
    "            return abs(ygx - 1) < self.epsilon\n",
    "    \n",
    "    \n",
    "    def is_top(self):\n",
    "        \n",
    "        for i in range(self.N):\n",
    "            satisfy = self.satisfy_kkt(i)\n",
    "            \n",
    "            if not satisfy:\n",
    "                return False\n",
    "            \n",
    "        return True\n",
    "    \n",
    "    \n",
    "    def select_two_parameters(self):\n",
    "        \n",
    "        index_list = [i for i in range(self.N)]\n",
    "        \n",
    "        i1_list_1 = filter(lambda i:self.alpha[i] > 0 and self.alpha[i] < self.C, index_list)\n",
    "        i1_list_2 = list(set(index_list) - set(i1_list_1))\n",
    "        \n",
    "        i1_list = i1_list_1\n",
    "        i1_list.append(i1_list_2)\n",
    "        \n",
    "        for i in i1_list:\n",
    "            \n",
    "            if self.satisfy_kkt(i):\n",
    "                continue\n",
    "            \n",
    "            E1 = self.E[i]\n",
    "            max_ = (0,0)\n",
    "            \n",
    "            for j in index_list:\n",
    "                if i == j:\n",
    "                    continue\n",
    "                \n",
    "                E2 = self.E[j]\n",
    "                if abs(E1 - E2) > max_[0]:\n",
    "                    max_ = (abs(E1 - E2), j)\n",
    "            \n",
    "            return i, max_[1]\n",
    "        \n",
    "    def _K_(self, x1, x2):\n",
    "            \n",
    "            if self.kernel == 'linear':\n",
    "                return sum(x1[k] * x2[k] for k in range(self.n))\n",
    "            if self.kernel == 'poly':\n",
    "                return (sum([x1[k] * x2[k] for k in range(self.n)]) + 1) **3\n",
    "            \n",
    "            print('无定义核函数')\n",
    "            return 0\n",
    "\n",
    "        \n",
    "        \n",
    "    def _g_(self, i):\n",
    "            \n",
    "            result = self.b\n",
    "            for j in range(self.N):\n",
    "                result += self.alpha[j] * self.Y[j] * self._K_(self.X[i], self.X[j])\n",
    "            return result\n",
    "        \n",
    "        \n",
    "    def _E_(self, i):\n",
    "            \n",
    "            return self._g_(i) - self.Y[i]\n",
    "        \n",
    "        \n",
    "        def try_E(self, i):\n",
    "            result = self.b - self.Y[i]\n",
    "            for j in range(self.N):\n",
    "                if self.alpha[j] < 0 or self.alpha[j]>self.C:\n",
    "                    continue\n",
    "                result += self.Y[j] * self.alpha[j] * self._K_(self.X[i], self.X[j])\n",
    "            return result\n",
    "        \n",
    "        \n",
    "        def train(self, features, labels):\n",
    "            \n",
    "            self._init_parameters(features, labels)\n",
    "            \n",
    "            for times in range(self.max_interation):\n",
    "                \n",
    "                logging.debug('iterater %d' % times)\n",
    "                \n",
    "                i1, i2 = self.select_two_parameters()\n",
    "                \n",
    "                L = max(0, self.alpha[i2] - self.alpha[i1])\n",
    "                H = min(self.C, self.alpha[i1] + self.alpha[i2])\n",
    "                \n",
    "                if self.Y[i1] == self.Y[i2]:\n",
    "                    L = max(0, self.alpha[i2] - self.alpha[i1] - self.C)\n",
    "                    H = min(self.C, self.alpha[i1] + self.alpha[i2])\n",
    "                \n",
    "                E1 = self.E[i1]\n",
    "                E2 = self.E[i2]\n",
    "                eta = self._K_(self.X[i2] , self.X[i2] + self._K_(self.X[i2, self.X[i2]])\n",
    "                               - 2*self._K_(self.X[i1], self.X[i2]))\n",
    "                \n",
    "                alpha2_new_unc = self.alpha[i2] + self.Y[i2] * (E1 - E2) / eta\n",
    "                \n",
    "                alph2_new = 0\n",
    "                \n",
    "                if alpha2_new_unc > H:\n",
    "                    alph2_new = H\n",
    "                elif alpha2_new_unc <L:\n",
    "                    alph2_new = L\n",
    "                else:\n",
    "                    alph2_new = alpha2_new_unc\n",
    "                \n",
    "                alph1_new = self.alpha[i1] + self.Y[i1] *\\\n",
    "                            self.Y[i2] *(self.alpha[i2] - alph2_new)\n",
    "                \n",
    "                b_new = 0\n",
    "                \n",
    "                b1_new = -E1 - self.Y[i1] * self._K_(self.X[i1], self.X[i1])*(alph1_new - self.alpha[i1])\\\n",
    "                        - self.Y[i2]* self._K_(self.X[i2], self.X[i1])* (alph2_new _ alph1_new) + self.b\n",
    "                b2_new = -E1 - self.Y[i1] * self._K_(self.X[i1], self.X[i2])*(alph1_new - self.alpha[i1])\\\n",
    "                        - self.Y[i2]* self._K_(self.X[i2], self.X[i2])* (alph2_new _ alph1_new) + self.b\n",
    "                \n",
    "                if alph1_new > 0 and alph2_new < self.C:\n",
    "                    b_new = b1_new\n",
    "                elif alph2_new > 0 and alph2_new < self.C:\n",
    "                    b_new = b2_new\n",
    "                else:\n",
    "                    b_new = (b1_new + b2_new)/2\n",
    "                    \n",
    "                self.alpha[i1] = alph1_new\n",
    "                self.alpha[i2] = alph2_new\n",
    "                self.b = b_new\n",
    "                \n",
    "                self.E[i1] = self._E_(i1)\n",
    "                self.E[i2] = self._E_(i2)\n",
    "                \n",
    "                \n",
    "                \n",
    "    def _predict_(self,feature):\n",
    "        result = self.b\n",
    "\n",
    "        for i in xrange(self.N):\n",
    "            result += self.alpha[i]*self.Y[i]*self._K_(feature,self.X[i])\n",
    "\n",
    "        if result > 0:\n",
    "            return 1\n",
    "        return -1\n",
    "\n",
    "    def predict(self,features):\n",
    "        results = []\n",
    "\n",
    "        for feature in features:\n",
    "            results.append(self._predict_(feature))\n",
    "\n",
    "        return results"
   ]
  },
  {
   "cell_type": "code",
   "execution_count": null,
   "metadata": {
    "collapsed": true
   },
   "outputs": [],
   "source": []
  },
  {
   "cell_type": "code",
   "execution_count": null,
   "metadata": {
    "collapsed": true
   },
   "outputs": [],
   "source": []
  },
  {
   "cell_type": "code",
   "execution_count": null,
   "metadata": {
    "collapsed": true
   },
   "outputs": [],
   "source": []
  },
  {
   "cell_type": "code",
   "execution_count": null,
   "metadata": {
    "collapsed": true
   },
   "outputs": [],
   "source": []
  },
  {
   "cell_type": "code",
   "execution_count": null,
   "metadata": {
    "collapsed": true
   },
   "outputs": [],
   "source": []
  },
  {
   "cell_type": "code",
   "execution_count": null,
   "metadata": {
    "collapsed": true
   },
   "outputs": [],
   "source": []
  },
  {
   "cell_type": "code",
   "execution_count": null,
   "metadata": {
    "collapsed": true
   },
   "outputs": [],
   "source": []
  },
  {
   "cell_type": "code",
   "execution_count": null,
   "metadata": {
    "collapsed": true
   },
   "outputs": [],
   "source": []
  },
  {
   "cell_type": "code",
   "execution_count": null,
   "metadata": {
    "collapsed": true
   },
   "outputs": [],
   "source": []
  },
  {
   "cell_type": "code",
   "execution_count": null,
   "metadata": {
    "collapsed": true
   },
   "outputs": [],
   "source": []
  },
  {
   "cell_type": "code",
   "execution_count": null,
   "metadata": {
    "collapsed": true
   },
   "outputs": [],
   "source": []
  },
  {
   "cell_type": "code",
   "execution_count": null,
   "metadata": {
    "collapsed": true
   },
   "outputs": [],
   "source": []
  },
  {
   "cell_type": "code",
   "execution_count": null,
   "metadata": {
    "collapsed": true
   },
   "outputs": [],
   "source": []
  },
  {
   "cell_type": "code",
   "execution_count": null,
   "metadata": {
    "collapsed": true
   },
   "outputs": [],
   "source": []
  },
  {
   "cell_type": "code",
   "execution_count": null,
   "metadata": {
    "collapsed": true
   },
   "outputs": [],
   "source": []
  },
  {
   "cell_type": "code",
   "execution_count": null,
   "metadata": {
    "collapsed": true
   },
   "outputs": [],
   "source": []
  },
  {
   "cell_type": "code",
   "execution_count": null,
   "metadata": {
    "collapsed": true
   },
   "outputs": [],
   "source": []
  },
  {
   "cell_type": "code",
   "execution_count": null,
   "metadata": {
    "collapsed": true
   },
   "outputs": [],
   "source": []
  },
  {
   "cell_type": "code",
   "execution_count": null,
   "metadata": {
    "collapsed": true
   },
   "outputs": [],
   "source": []
  },
  {
   "cell_type": "code",
   "execution_count": null,
   "metadata": {
    "collapsed": true
   },
   "outputs": [],
   "source": []
  },
  {
   "cell_type": "code",
   "execution_count": null,
   "metadata": {
    "collapsed": true
   },
   "outputs": [],
   "source": []
  },
  {
   "cell_type": "code",
   "execution_count": null,
   "metadata": {
    "collapsed": true
   },
   "outputs": [],
   "source": []
  },
  {
   "cell_type": "code",
   "execution_count": null,
   "metadata": {
    "collapsed": true
   },
   "outputs": [],
   "source": []
  }
 ],
 "metadata": {
  "kernelspec": {
   "display_name": "Python 3",
   "language": "python",
   "name": "python3"
  },
  "language_info": {
   "codemirror_mode": {
    "name": "ipython",
    "version": 3
   },
   "file_extension": ".py",
   "mimetype": "text/x-python",
   "name": "python",
   "nbconvert_exporter": "python",
   "pygments_lexer": "ipython3",
   "version": "3.6.3"
  }
 },
 "nbformat": 4,
 "nbformat_minor": 2
}
