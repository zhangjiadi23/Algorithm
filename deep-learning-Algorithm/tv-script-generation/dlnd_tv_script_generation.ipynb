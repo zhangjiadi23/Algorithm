{
 "cells": [
  {
   "cell_type": "code",
   "execution_count": 1,
   "metadata": {
    "collapsed": true
   },
   "outputs": [],
   "source": [
    "#获取数据\n",
    "import helper\n",
    "\n",
    "data_dir = './data/simpsons/moes_tavern_lines.txt'\n",
    "text = helper.load_data(data_dir)\n",
    "\n",
    "text = text[81:]"
   ]
  },
  {
   "cell_type": "code",
   "execution_count": 2,
   "metadata": {},
   "outputs": [
    {
     "name": "stdout",
     "output_type": "stream",
     "text": [
      "Dataset Stats\n",
      "Roughly the number of unique words: 11492\n",
      "Number of scenes: 262\n",
      "Average number of sentences in each scene: 15.248091603053435\n",
      "Number of lines: 4257\n",
      "Average number of words in each line: 11.50434578341555\n",
      "\n",
      "The sentences 0 to 10:\n",
      "Moe_Szyslak: (INTO PHONE) Moe's Tavern. Where the elite meet to drink.\n",
      "Bart_Simpson: Eh, yeah, hello, is Mike there? Last name, Rotch.\n",
      "Moe_Szyslak: (INTO PHONE) Hold on, I'll check. (TO BARFLIES) Mike Rotch. Mike Rotch. Hey, has anybody seen Mike Rotch, lately?\n",
      "Moe_Szyslak: (INTO PHONE) Listen you little puke. One of these days I'm gonna catch you, and I'm gonna carve my name on your back with an ice pick.\n",
      "Moe_Szyslak: What's the matter Homer? You're not your normal effervescent self.\n",
      "Homer_Simpson: I got my problems, Moe. Give me another one.\n",
      "Moe_Szyslak: Homer, hey, you should not drink to forget your problems.\n",
      "Barney_Gumble: Yeah, you should only drink to enhance your social skills.\n",
      "\n",
      "\n"
     ]
    }
   ],
   "source": [
    "#探索数据\n",
    "view_sentence_range = (0, 10)\n",
    "\n",
    "import numpy as np\n",
    "\n",
    "print('Dataset Stats')\n",
    "print('Roughly the number of unique words: {}'.format(len({word: None for word in text.split()})))\n",
    "scenes = text.split('\\n\\n')\n",
    "print('Number of scenes: {}'.format(len(scenes)))\n",
    "sentence_count_scene = [scene.count('\\n') for scene in scenes]\n",
    "print('Average number of sentences in each scene: {}'.format(np.average(sentence_count_scene)))\n",
    "\n",
    "sentences = [sentence for scene in scenes for sentence in scene.split('\\n')]\n",
    "print('Number of lines: {}'.format(len(sentences)))\n",
    "word_count_sentence = [len(sentence.split()) for sentence in sentences]\n",
    "print('Average number of words in each line: {}'.format(np.average(word_count_sentence)))\n",
    "\n",
    "print()\n",
    "print('The sentences {} to {}:'.format(*view_sentence_range))\n",
    "print('\\n'.join(text.split('\\n')[view_sentence_range[0]:view_sentence_range[1]]))"
   ]
  },
  {
   "cell_type": "code",
   "execution_count": 3,
   "metadata": {},
   "outputs": [
    {
     "data": {
      "text/plain": [
       "list"
      ]
     },
     "execution_count": 3,
     "metadata": {},
     "output_type": "execute_result"
    }
   ],
   "source": [
    "type(scenes)"
   ]
  },
  {
   "cell_type": "code",
   "execution_count": 4,
   "metadata": {},
   "outputs": [
    {
     "name": "stdout",
     "output_type": "stream",
     "text": [
      "WARNING:tensorflow:From C:\\Users\\47064\\Anaconda3\\lib\\site-packages\\tensorflow\\contrib\\learn\\python\\learn\\datasets\\base.py:198: retry (from tensorflow.contrib.learn.python.learn.datasets.base) is deprecated and will be removed in a future version.\n",
      "Instructions for updating:\n",
      "Use the retry module or similar alternatives.\n"
     ]
    }
   ],
   "source": [
    "#预处理函数\n",
    "#查询表\n",
    "import numpy as np\n",
    "import problem_unittests as tests\n",
    "from collections import Counter\n",
    "\n",
    "def create_lookup_tables(text):\n",
    "    #创建查询表\n",
    "    vocab = set(text)\n",
    "    vocab_to_int = {w: i for i, w in enumerate(vocab)}\n",
    "    int_to_vocab = dict(enumerate(vocab))\n",
    "    return (vocab_to_int, int_to_vocab)"
   ]
  },
  {
   "cell_type": "code",
   "execution_count": 5,
   "metadata": {
    "collapsed": true
   },
   "outputs": [],
   "source": [
    "#标记符号的字符串\n",
    "def token_lookup():\n",
    "    \n",
    "    \n",
    "    token = {'.': '||period||',\n",
    "             ',': '||comma||',\n",
    "             '\"': '||quotationmark||',\n",
    "             ';': '||semicolon||',\n",
    "             '?': '||questionmark||',\n",
    "             '!': '||exclamationmark||',\n",
    "             '(': '||leftparentheses||',\n",
    "             ')': '||rightparentheses||',\n",
    "             '--': '||dash||',\n",
    "             '\\n': '||return||'}\n",
    "    return token\n",
    "\n"
   ]
  },
  {
   "cell_type": "code",
   "execution_count": 6,
   "metadata": {
    "collapsed": true
   },
   "outputs": [],
   "source": [
    "#预处理并保存所有数据\n",
    "helper.preprocess_and_save_data(data_dir, token_lookup, create_lookup_tables)"
   ]
  },
  {
   "cell_type": "code",
   "execution_count": 7,
   "metadata": {
    "collapsed": true
   },
   "outputs": [],
   "source": [
    "#checkpoint\n",
    "import helper\n",
    "import numpy as np\n",
    "import problem_unittests as tests\n",
    "\n",
    "int_text, vocab_to_int, int_to_vocab, token_dict = helper.load_preprocess()"
   ]
  },
  {
   "cell_type": "code",
   "execution_count": 8,
   "metadata": {},
   "outputs": [
    {
     "name": "stdout",
     "output_type": "stream",
     "text": [
      "TensorFlow Version: 1.7.0\n"
     ]
    },
    {
     "name": "stderr",
     "output_type": "stream",
     "text": [
      "C:\\Users\\47064\\Anaconda3\\lib\\site-packages\\ipykernel_launcher.py:12: UserWarning: No GPU found. Please use a GPU to train your neural network.\n",
      "  if sys.path[0] == '':\n"
     ]
    }
   ],
   "source": [
    "#创建神经网络\n",
    "from distutils.version import LooseVersion\n",
    "import warnings\n",
    "import tensorflow as tf\n",
    "\n",
    "#检查TensorFlow版本\n",
    "assert LooseVersion(tf.__version__) >= LooseVersion('1.0'), 'Please use TensorFlow version 1.0 or newer'\n",
    "print('TensorFlow Version: {}'.format(tf.__version__))\n",
    "\n",
    "#检查GPU\n",
    "if not tf.test.gpu_device_name():\n",
    "    warnings.warn('No GPU found. Please use a GPU to train your neural network.')\n",
    "else:\n",
    "    print('Default GPU Device: {}'.format(tf.test.gpu_device_name()))"
   ]
  },
  {
   "cell_type": "code",
   "execution_count": 9,
   "metadata": {
    "collapsed": true
   },
   "outputs": [],
   "source": [
    "def get_inputs():\n",
    "\n",
    "    Input = tf.placeholder(tf.int32, [None, None], name = 'input')\n",
    "    Targets = tf.placeholder(tf.int32, [None, None], name='Targets')\n",
    "    LearningRate = tf.placeholder(tf.float32, name='LearningRate')\n",
    "    return Input, Targets, LearningRate\n",
    "\n"
   ]
  },
  {
   "cell_type": "code",
   "execution_count": 10,
   "metadata": {
    "collapsed": true
   },
   "outputs": [],
   "source": [
    "def get_init_cell(batch_size, rnn_size, n_layers=2):\n",
    "\n",
    "    \n",
    "    def make_lstm(rnn_size):\n",
    "        return tf.contrib.rnn.BasicLSTMCell(rnn_size)\n",
    "    \n",
    "    cell = tf.contrib.rnn.MultiRNNCell([ make_lstm(rnn_size) for _ in range(n_layers)])\n",
    "    \n",
    "    initial_state = cell.zero_state(batch_size, tf.float32)\n",
    "    initial_state = tf.identity(initial_state, name='initial_state')\n",
    "    return (cell, initial_state)\n"
   ]
  },
  {
   "cell_type": "code",
   "execution_count": 11,
   "metadata": {
    "collapsed": true
   },
   "outputs": [],
   "source": [
    "#词嵌入\n",
    "def get_embed(input_data, vocab_size, embed_dim):\n",
    "\n",
    "    embedding = tf.Variable(tf.random_uniform((vocab_size, embed_dim),-1,1))\n",
    "    embed = tf.nn.embedding_lookup(embedding, input_data)\n",
    "    return embed\n",
    "\n"
   ]
  },
  {
   "cell_type": "code",
   "execution_count": 12,
   "metadata": {
    "collapsed": true
   },
   "outputs": [],
   "source": [
    "def build_rnn(cell, inputs):\n",
    "    outputs, final_state = tf.nn.dynamic_rnn(cell, inputs, dtype=tf.float32)\n",
    "    final_state = tf.identity(final_state, name=\"final_state\")\n",
    "    return (outputs, final_state)"
   ]
  },
  {
   "cell_type": "code",
   "execution_count": 13,
   "metadata": {
    "collapsed": true
   },
   "outputs": [],
   "source": [
    "def build_nn(cell, rnn_size, input_data, vocab_size, embed_dim):\n",
    "\n",
    "    inputs = get_embed(input_data, vocab_size, embed_dim)\n",
    "    outputs, final_state = build_rnn(cell, inputs)\n",
    "    logits = tf.contrib.layers.fully_connected(outputs, vocab_size, activation_fn = None)\n",
    "    return logits, final_state\n"
   ]
  },
  {
   "cell_type": "code",
   "execution_count": 14,
   "metadata": {
    "collapsed": true
   },
   "outputs": [],
   "source": [
    "def get_batches(int_text, batch_size, seq_length):\n",
    "    num_batches = len(int_text) // (batch_size * seq_length)\n",
    "    int_text = int_text[:(seq_length * num_batches * batch_size +1)]\n",
    "    input_batch = [int_text[i * seq_length : (i* seq_length +seq_length) ] for i in range(batch_size * num_batches)]\n",
    "    input_targets = [int_text[i * seq_length +1 : (i* seq_length +seq_length+1)] for i in range(batch_size * num_batches)]\n",
    "    inputs = []\n",
    "    target = []\n",
    "    output = []\n",
    "    for i in range(num_batches):\n",
    "        inputs = []\n",
    "        target = []\n",
    "        for j in range(batch_size):\n",
    "            inputs.append(input_batch[j * num_batches + i])\n",
    "            target.append(input_targets[j * num_batches + i])\n",
    "        output.append([inputs, target])\n",
    "    return np.array(output)\n"
   ]
  },
  {
   "cell_type": "code",
   "execution_count": 15,
   "metadata": {
    "collapsed": true
   },
   "outputs": [],
   "source": [
    "num_epochs = 100\n",
    "batch_size = 128\n",
    "rnn_size = 256\n",
    "embed_dim = 200\n",
    "seq_length = 30\n",
    "learning_rate = 0.01\n",
    "show_every_n_batches = get_batches(int_text, batch_size, seq_length).shape[0]\n",
    "\n",
    "save_dir = './save'"
   ]
  },
  {
   "cell_type": "code",
   "execution_count": 27,
   "metadata": {
    "collapsed": true
   },
   "outputs": [],
   "source": [
    "\n",
    "from tensorflow.contrib import seq2seq\n",
    "\n",
    "train_graph = tf.Graph()\n",
    "with train_graph.as_default():\n",
    "    vocab_size = len(int_to_vocab)\n",
    "    input_text, targets, lr = get_inputs()\n",
    "    input_data_shape = tf.shape(input_text)\n",
    "    cell, initial_state = get_init_cell(input_data_shape[0], rnn_size)\n",
    "    logits, final_state = build_nn(cell, rnn_size, input_text, vocab_size, embed_dim)\n",
    "\n",
    "    probs = tf.nn.softmax(logits, name='probs')\n",
    "\n",
    "    cost = seq2seq.sequence_loss(\n",
    "        logits,\n",
    "        targets,\n",
    "        tf.ones([input_data_shape[0], input_data_shape[1]]))\n",
    "\n",
    "    optimizer = tf.train.AdamOptimizer(lr)\n",
    "\n",
    "    gradients = optimizer.compute_gradients(cost)\n",
    "    capped_gradients = [(tf.clip_by_value(grad, -1., 1.), var) for grad, var in gradients if grad is not None]\n",
    "    train_op = optimizer.apply_gradients(capped_gradients)"
   ]
  },
  {
   "cell_type": "code",
   "execution_count": 28,
   "metadata": {},
   "outputs": [
    {
     "name": "stdout",
     "output_type": "stream",
     "text": [
      "Epoch   0 Batch    0/17   train_loss = 8.822\n",
      "Epoch   1 Batch    0/17   train_loss = 6.602\n",
      "Epoch   2 Batch    0/17   train_loss = 6.182\n",
      "Epoch   3 Batch    0/17   train_loss = 6.010\n",
      "Epoch   4 Batch    0/17   train_loss = 5.895\n",
      "Epoch   5 Batch    0/17   train_loss = 5.750\n",
      "Epoch   6 Batch    0/17   train_loss = 5.660\n",
      "Epoch   7 Batch    0/17   train_loss = 5.464\n",
      "Epoch   8 Batch    0/17   train_loss = 5.290\n",
      "Epoch   9 Batch    0/17   train_loss = 5.137\n",
      "Epoch  10 Batch    0/17   train_loss = 5.080\n",
      "Epoch  11 Batch    0/17   train_loss = 4.908\n",
      "Epoch  12 Batch    0/17   train_loss = 4.804\n",
      "Epoch  13 Batch    0/17   train_loss = 4.672\n",
      "Epoch  14 Batch    0/17   train_loss = 4.497\n",
      "Epoch  15 Batch    0/17   train_loss = 4.345\n",
      "Epoch  16 Batch    0/17   train_loss = 4.194\n",
      "Epoch  17 Batch    0/17   train_loss = 4.081\n",
      "Epoch  18 Batch    0/17   train_loss = 3.914\n",
      "Epoch  19 Batch    0/17   train_loss = 3.818\n",
      "Epoch  20 Batch    0/17   train_loss = 3.699\n",
      "Epoch  21 Batch    0/17   train_loss = 3.560\n",
      "Epoch  22 Batch    0/17   train_loss = 3.430\n",
      "Epoch  23 Batch    0/17   train_loss = 3.323\n",
      "Epoch  24 Batch    0/17   train_loss = 3.221\n",
      "Epoch  25 Batch    0/17   train_loss = 3.102\n",
      "Epoch  26 Batch    0/17   train_loss = 3.017\n",
      "Epoch  27 Batch    0/17   train_loss = 2.892\n",
      "Epoch  28 Batch    0/17   train_loss = 2.770\n",
      "Epoch  29 Batch    0/17   train_loss = 2.700\n",
      "Epoch  30 Batch    0/17   train_loss = 2.509\n",
      "Epoch  31 Batch    0/17   train_loss = 2.334\n",
      "Epoch  32 Batch    0/17   train_loss = 2.191\n",
      "Epoch  33 Batch    0/17   train_loss = 2.061\n",
      "Epoch  34 Batch    0/17   train_loss = 1.968\n",
      "Epoch  35 Batch    0/17   train_loss = 1.877\n",
      "Epoch  36 Batch    0/17   train_loss = 1.849\n",
      "Epoch  37 Batch    0/17   train_loss = 1.720\n",
      "Epoch  38 Batch    0/17   train_loss = 1.618\n",
      "Epoch  39 Batch    0/17   train_loss = 1.518\n",
      "Epoch  40 Batch    0/17   train_loss = 1.440\n",
      "Epoch  41 Batch    0/17   train_loss = 1.377\n",
      "Epoch  42 Batch    0/17   train_loss = 1.356\n",
      "Epoch  43 Batch    0/17   train_loss = 1.289\n",
      "Epoch  44 Batch    0/17   train_loss = 1.249\n",
      "Epoch  45 Batch    0/17   train_loss = 1.203\n",
      "Epoch  46 Batch    0/17   train_loss = 1.112\n",
      "Epoch  47 Batch    0/17   train_loss = 1.097\n",
      "Epoch  48 Batch    0/17   train_loss = 1.081\n",
      "Epoch  49 Batch    0/17   train_loss = 1.062\n",
      "Epoch  50 Batch    0/17   train_loss = 0.992\n",
      "Epoch  51 Batch    0/17   train_loss = 0.907\n",
      "Epoch  52 Batch    0/17   train_loss = 0.839\n",
      "Epoch  53 Batch    0/17   train_loss = 0.786\n",
      "Epoch  54 Batch    0/17   train_loss = 0.758\n",
      "Epoch  55 Batch    0/17   train_loss = 0.681\n",
      "Epoch  56 Batch    0/17   train_loss = 0.648\n",
      "Epoch  57 Batch    0/17   train_loss = 0.622\n",
      "Epoch  58 Batch    0/17   train_loss = 0.587\n",
      "Epoch  59 Batch    0/17   train_loss = 0.558\n",
      "Epoch  60 Batch    0/17   train_loss = 0.530\n",
      "Epoch  61 Batch    0/17   train_loss = 0.496\n",
      "Epoch  62 Batch    0/17   train_loss = 0.465\n",
      "Epoch  63 Batch    0/17   train_loss = 0.448\n",
      "Epoch  64 Batch    0/17   train_loss = 0.442\n",
      "Epoch  65 Batch    0/17   train_loss = 0.413\n",
      "Epoch  66 Batch    0/17   train_loss = 0.372\n",
      "Epoch  67 Batch    0/17   train_loss = 0.361\n",
      "Epoch  68 Batch    0/17   train_loss = 0.344\n",
      "Epoch  69 Batch    0/17   train_loss = 0.304\n",
      "Epoch  70 Batch    0/17   train_loss = 0.280\n",
      "Epoch  71 Batch    0/17   train_loss = 0.263\n",
      "Epoch  72 Batch    0/17   train_loss = 0.241\n",
      "Epoch  73 Batch    0/17   train_loss = 0.232\n",
      "Epoch  74 Batch    0/17   train_loss = 0.229\n",
      "Epoch  75 Batch    0/17   train_loss = 0.223\n",
      "Epoch  76 Batch    0/17   train_loss = 0.230\n",
      "Epoch  77 Batch    0/17   train_loss = 0.230\n",
      "Epoch  78 Batch    0/17   train_loss = 0.222\n",
      "Epoch  79 Batch    0/17   train_loss = 0.198\n",
      "Epoch  80 Batch    0/17   train_loss = 0.209\n",
      "Epoch  81 Batch    0/17   train_loss = 0.256\n",
      "Epoch  82 Batch    0/17   train_loss = 0.232\n",
      "Epoch  83 Batch    0/17   train_loss = 0.214\n",
      "Epoch  84 Batch    0/17   train_loss = 0.227\n",
      "Epoch  85 Batch    0/17   train_loss = 0.232\n",
      "Epoch  86 Batch    0/17   train_loss = 0.218\n",
      "Epoch  87 Batch    0/17   train_loss = 0.209\n",
      "Epoch  88 Batch    0/17   train_loss = 0.195\n",
      "Epoch  89 Batch    0/17   train_loss = 0.192\n",
      "Epoch  90 Batch    0/17   train_loss = 0.185\n",
      "Epoch  91 Batch    0/17   train_loss = 0.183\n",
      "Epoch  92 Batch    0/17   train_loss = 0.180\n",
      "Epoch  93 Batch    0/17   train_loss = 0.176\n",
      "Epoch  94 Batch    0/17   train_loss = 0.171\n",
      "Epoch  95 Batch    0/17   train_loss = 0.160\n",
      "Epoch  96 Batch    0/17   train_loss = 0.147\n",
      "Epoch  97 Batch    0/17   train_loss = 0.165\n",
      "Epoch  98 Batch    0/17   train_loss = 0.156\n",
      "Epoch  99 Batch    0/17   train_loss = 0.139\n",
      "Model Trained and Saved\n"
     ]
    }
   ],
   "source": [
    "\n",
    "batches = get_batches(int_text, batch_size, seq_length)\n",
    "\n",
    "with tf.Session(graph=train_graph) as sess:\n",
    "    sess.run(tf.global_variables_initializer())\n",
    "\n",
    "    for epoch_i in range(num_epochs):\n",
    "        state = sess.run(initial_state, {input_text: batches[0][0]})\n",
    "\n",
    "        for batch_i, (x, y) in enumerate(batches):\n",
    "            feed = {\n",
    "                input_text: x,\n",
    "                targets: y,\n",
    "                initial_state: state,\n",
    "                lr: learning_rate}\n",
    "            train_loss, state, _ = sess.run([cost, final_state, train_op], feed)\n",
    "\n",
    "            if (epoch_i * len(batches) + batch_i) % show_every_n_batches == 0:\n",
    "                print('Epoch {:>3} Batch {:>4}/{}   train_loss = {:.3f}'.format(\n",
    "                    epoch_i,\n",
    "                    batch_i,\n",
    "                    len(batches),\n",
    "                    train_loss))\n",
    "\n",
    "    # Save Model\n",
    "    saver = tf.train.Saver()\n",
    "    saver.save(sess, save_dir)\n",
    "    print('Model Trained and Saved')"
   ]
  },
  {
   "cell_type": "code",
   "execution_count": 22,
   "metadata": {
    "collapsed": true
   },
   "outputs": [],
   "source": [
    "helper.save_params((seq_length, save_dir))"
   ]
  },
  {
   "cell_type": "code",
   "execution_count": 23,
   "metadata": {
    "collapsed": true
   },
   "outputs": [],
   "source": [
    "#checkpoint\n",
    "import tensorflow as tf\n",
    "import numpy as np\n",
    "import helper\n",
    "import problem_unittests as tests\n",
    "\n",
    "_, vocab_to_int, int_to_vocab, token_dict = helper.load_preprocess()\n",
    "seq_length, load_dir = helper.load_params()"
   ]
  },
  {
   "cell_type": "code",
   "execution_count": 10,
   "metadata": {
    "collapsed": true
   },
   "outputs": [],
   "source": [
    "def get_tensors(loaded_graph):\n",
    "\n",
    "    inputtensor = loaded_graph.get_tensor_by_name(\"input:0\")\n",
    "    initialstatetensor = loaded_graph.get_tensor_by_name(\"initial_state:0\") \n",
    "    finalstatetensor = loaded_graph.get_tensor_by_name(\"final_state:0\") \n",
    "    probstensor = loaded_graph.get_tensor_by_name(\"probs:0\")\n",
    "    return  (inputtensor, initialstatetensor, finalstatetensor, probstensor)\n"
   ]
  },
  {
   "cell_type": "code",
   "execution_count": 9,
   "metadata": {
    "collapsed": true
   },
   "outputs": [],
   "source": [
    "def pick_word(probabilities, int_to_vocab):\n",
    "\n",
    "    index = np.argmax(probabilities)\n",
    "    predictword = []\n",
    "    for i in range(3):\n",
    "        index = np.argmax(probabilities)\n",
    "        probabilities[index] = 0\n",
    "        predictword.append(int_to_vocab[index])\n",
    "    return predictword[np.random.randint(0, 3)]\n"
   ]
  },
  {
   "cell_type": "code",
   "execution_count": 26,
   "metadata": {},
   "outputs": [
    {
     "name": "stdout",
     "output_type": "stream",
     "text": [
      "moe_szyslak: homer, is them peanuts is made in the night there that you've need any money, it was.\" the bartender for him. you know you're too guys ain't so a\" bow! a bachelorette sister and i sound of the pool radishes like how to give this treasure. let this makin' got close to go down and i don't the twenty any of all. i can't use you to bluff my way through. okay. uh.. so a little dank! i can't. to you a date with homer!(getting chuckle) then you take a drink, homer? a hundred bucks. if i knew we pulled a man in sight could a snake-handler\n",
      "\n",
      "i had a duff, huh. that's so moe. i could hit that crawlin' here to least we like? i'm actually state could to be right here in business. i mean, maybe he's tired. can you all have to beat to go with the hammer-- let me feel anyway? even you need! take it. but you've got a guy\n"
     ]
    }
   ],
   "source": [
    "#生成剧本\n",
    "gen_length = 200\n",
    "prime_word = 'moe_szyslak'\n",
    "\n",
    "loaded_graph = tf.Graph()\n",
    "with tf.Session(graph=loaded_graph) as sess:\n",
    "    loader = tf.train.import_meta_graph(load_dir + '.meta')\n",
    "    loader.restore(sess, load_dir)\n",
    "\n",
    "    input_text, initial_state, final_state, probs = get_tensors(loaded_graph)\n",
    "\n",
    "    gen_sentences = [prime_word + ':']\n",
    "    prev_state = sess.run(initial_state, {input_text: np.array([[1]])})\n",
    "\n",
    "    for n in range(gen_length):\n",
    "        dyn_input = [[vocab_to_int[word] for word in gen_sentences[-seq_length:]]]\n",
    "        dyn_seq_length = len(dyn_input[0])\n",
    "\n",
    "        probabilities, prev_state = sess.run(\n",
    "            [probs, final_state],\n",
    "            {input_text: dyn_input, initial_state: prev_state})\n",
    "        \n",
    "        pred_word = pick_word(probabilities[dyn_seq_length-1], int_to_vocab)\n",
    "\n",
    "        gen_sentences.append(pred_word)\n",
    "    \n",
    "    tv_script = ' '.join(gen_sentences)\n",
    "    for key, token in token_dict.items():\n",
    "        ending = ' ' if key in ['\\n', '(', '\"'] else ''\n",
    "        tv_script = tv_script.replace(' ' + token.lower(), key)\n",
    "    tv_script = tv_script.replace('\\n ', '\\n')\n",
    "    tv_script = tv_script.replace('( ', '(')\n",
    "        \n",
    "    print(tv_script)"
   ]
  }
 ],
 "metadata": {
  "anaconda-cloud": {},
  "kernelspec": {
   "display_name": "Python 3",
   "language": "python",
   "name": "python3"
  },
  "language_info": {
   "codemirror_mode": {
    "name": "ipython",
    "version": 3
   },
   "file_extension": ".py",
   "mimetype": "text/x-python",
   "name": "python",
   "nbconvert_exporter": "python",
   "pygments_lexer": "ipython3",
   "version": "3.6.3"
  }
 },
 "nbformat": 4,
 "nbformat_minor": 1
}
